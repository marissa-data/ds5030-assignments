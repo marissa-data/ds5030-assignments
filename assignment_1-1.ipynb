{
 "cells": [
  {
   "cell_type": "markdown",
   "id": "87b91d83",
   "metadata": {},
   "source": [
    "# Assignment 1\n",
    "### Understanding Uncertainty\n",
    "### Due 9/5\n",
    "\n",
    "### Marissa Burton"
   ]
  },
  {
   "cell_type": "markdown",
   "id": "380e339f",
   "metadata": {},
   "source": [
    "1. Create a new public repo on Github under your account. Include a readme file.\n",
    "2. Clone it to your machine. Put this file into that repo.\n",
    "3. Use the following function to download the example data for the course:"
   ]
  },
  {
   "cell_type": "code",
   "execution_count": 1,
   "id": "2d62b4f6",
   "metadata": {},
   "outputs": [
    {
     "name": "stdout",
     "output_type": "stream",
     "text": [
      "Download file already exists\n",
      "Data directory already exists\n"
     ]
    }
   ],
   "source": [
    "def download_data(force=False):\n",
    "    \"\"\"Download and extract course data from Zenodo.\"\"\"\n",
    "    import urllib.request, zipfile, os\n",
    "    \n",
    "    zip_path = 'data.zip'\n",
    "    data_dir = 'data'\n",
    "    \n",
    "    if not os.path.exists(zip_path) or force:\n",
    "        print(\"Downloading course data\")\n",
    "        urllib.request.urlretrieve(\n",
    "            'https://zenodo.org/records/16954427/files/data.zip?download=1',\n",
    "            zip_path\n",
    "        )\n",
    "        print(\"Download complete\")\n",
    "    else:\n",
    "        print(\"Download file already exists\")\n",
    "        \n",
    "    if not os.path.exists(data_dir) or force:\n",
    "        print(\"Extracting data files...\")\n",
    "        with zipfile.ZipFile(zip_path, 'r') as zip_ref:\n",
    "            zip_ref.extractall(data_dir)\n",
    "        print(\"Data extracted\")\n",
    "    else:\n",
    "        print(\"Data directory already exists\")\n",
    "\n",
    "download_data()"
   ]
  },
  {
   "cell_type": "markdown",
   "id": "01db0045",
   "metadata": {},
   "source": [
    "4. Open one of the datasets using Pandas:\n",
    "    1. `ames_prices.csv`: Housing characteristics and prices\n",
    "    2. `college_completion.csv`: Public, nonprofit, and for-profit educational institutions, graduation rates, and financial aid\n",
    "    3. `ForeignGifts_edu.csv`: Monetary and in-kind transfers from foreign entities to U.S. educational institutions\n",
    "    4. `iowa.csv`: Liquor sales in Iowa, at the transaction level\n",
    "    5. `metabric.csv`: Cancer patient and outcome data\n",
    "    6. `mn_police_use_of_force.csv`: Records of physical altercations between Minnessota police and private citizens\n",
    "    7. `nhanes_data_17_18.csv`: National Health and Nutrition Examination Survey\n",
    "    8. `tuna.csv`: Yellowfin Tuna Genome (I don't recommend this one; it's just a sequence of G, C, A, T )\n",
    "    9. `va_procurement.csv`: Public spending by the state of Virginia"
   ]
  },
  {
   "cell_type": "code",
   "execution_count": 3,
   "id": "0ac4d946",
   "metadata": {},
   "outputs": [
    {
     "data": {
      "application/vnd.microsoft.datawrangler.viewer.v0+json": {
       "columns": [
        {
         "name": "index",
         "rawType": "int64",
         "type": "integer"
        },
        {
         "name": "index",
         "rawType": "int64",
         "type": "integer"
        },
        {
         "name": "unitid",
         "rawType": "int64",
         "type": "integer"
        },
        {
         "name": "chronname",
         "rawType": "object",
         "type": "string"
        },
        {
         "name": "city",
         "rawType": "object",
         "type": "string"
        },
        {
         "name": "state",
         "rawType": "object",
         "type": "string"
        },
        {
         "name": "level",
         "rawType": "object",
         "type": "string"
        },
        {
         "name": "control",
         "rawType": "object",
         "type": "string"
        },
        {
         "name": "basic",
         "rawType": "object",
         "type": "string"
        },
        {
         "name": "hbcu",
         "rawType": "object",
         "type": "unknown"
        },
        {
         "name": "flagship",
         "rawType": "object",
         "type": "unknown"
        },
        {
         "name": "long_x",
         "rawType": "float64",
         "type": "float"
        },
        {
         "name": "lat_y",
         "rawType": "float64",
         "type": "float"
        },
        {
         "name": "site",
         "rawType": "object",
         "type": "string"
        },
        {
         "name": "student_count",
         "rawType": "int64",
         "type": "integer"
        },
        {
         "name": "awards_per_value",
         "rawType": "float64",
         "type": "float"
        },
        {
         "name": "awards_per_state_value",
         "rawType": "float64",
         "type": "float"
        },
        {
         "name": "awards_per_natl_value",
         "rawType": "float64",
         "type": "float"
        },
        {
         "name": "exp_award_value",
         "rawType": "int64",
         "type": "integer"
        },
        {
         "name": "exp_award_state_value",
         "rawType": "int64",
         "type": "integer"
        },
        {
         "name": "exp_award_natl_value",
         "rawType": "int64",
         "type": "integer"
        },
        {
         "name": "exp_award_percentile",
         "rawType": "int64",
         "type": "integer"
        },
        {
         "name": "ft_pct",
         "rawType": "float64",
         "type": "float"
        },
        {
         "name": "fte_value",
         "rawType": "int64",
         "type": "integer"
        },
        {
         "name": "fte_percentile",
         "rawType": "int64",
         "type": "integer"
        },
        {
         "name": "med_sat_value",
         "rawType": "float64",
         "type": "float"
        },
        {
         "name": "med_sat_percentile",
         "rawType": "float64",
         "type": "float"
        },
        {
         "name": "aid_value",
         "rawType": "float64",
         "type": "float"
        },
        {
         "name": "aid_percentile",
         "rawType": "float64",
         "type": "float"
        },
        {
         "name": "endow_value",
         "rawType": "float64",
         "type": "float"
        },
        {
         "name": "endow_percentile",
         "rawType": "float64",
         "type": "float"
        },
        {
         "name": "grad_100_value",
         "rawType": "float64",
         "type": "float"
        },
        {
         "name": "grad_100_percentile",
         "rawType": "float64",
         "type": "float"
        },
        {
         "name": "grad_150_value",
         "rawType": "float64",
         "type": "float"
        },
        {
         "name": "grad_150_percentile",
         "rawType": "float64",
         "type": "float"
        },
        {
         "name": "pell_value",
         "rawType": "float64",
         "type": "float"
        },
        {
         "name": "pell_percentile",
         "rawType": "float64",
         "type": "float"
        },
        {
         "name": "retain_value",
         "rawType": "float64",
         "type": "float"
        },
        {
         "name": "retain_percentile",
         "rawType": "float64",
         "type": "float"
        },
        {
         "name": "ft_fac_value",
         "rawType": "float64",
         "type": "float"
        },
        {
         "name": "ft_fac_percentile",
         "rawType": "float64",
         "type": "float"
        },
        {
         "name": "vsa_year",
         "rawType": "float64",
         "type": "float"
        },
        {
         "name": "vsa_grad_after4_first",
         "rawType": "float64",
         "type": "float"
        },
        {
         "name": "vsa_grad_elsewhere_after4_first",
         "rawType": "float64",
         "type": "float"
        },
        {
         "name": "vsa_enroll_after4_first",
         "rawType": "float64",
         "type": "float"
        },
        {
         "name": "vsa_enroll_elsewhere_after4_first",
         "rawType": "float64",
         "type": "float"
        },
        {
         "name": "vsa_grad_after6_first",
         "rawType": "float64",
         "type": "float"
        },
        {
         "name": "vsa_grad_elsewhere_after6_first",
         "rawType": "float64",
         "type": "float"
        },
        {
         "name": "vsa_enroll_after6_first",
         "rawType": "float64",
         "type": "float"
        },
        {
         "name": "vsa_enroll_elsewhere_after6_first",
         "rawType": "float64",
         "type": "float"
        },
        {
         "name": "vsa_grad_after4_transfer",
         "rawType": "float64",
         "type": "float"
        },
        {
         "name": "vsa_grad_elsewhere_after4_transfer",
         "rawType": "float64",
         "type": "float"
        },
        {
         "name": "vsa_enroll_after4_transfer",
         "rawType": "float64",
         "type": "float"
        },
        {
         "name": "vsa_enroll_elsewhere_after4_transfer",
         "rawType": "float64",
         "type": "float"
        },
        {
         "name": "vsa_grad_after6_transfer",
         "rawType": "float64",
         "type": "float"
        },
        {
         "name": "vsa_grad_elsewhere_after6_transfer",
         "rawType": "float64",
         "type": "float"
        },
        {
         "name": "vsa_enroll_after6_transfer",
         "rawType": "float64",
         "type": "float"
        },
        {
         "name": "vsa_enroll_elsewhere_after6_transfer",
         "rawType": "float64",
         "type": "float"
        },
        {
         "name": "similar",
         "rawType": "object",
         "type": "string"
        },
        {
         "name": "state_sector_ct",
         "rawType": "int64",
         "type": "integer"
        },
        {
         "name": "carnegie_ct",
         "rawType": "int64",
         "type": "integer"
        },
        {
         "name": "counted_pct",
         "rawType": "object",
         "type": "string"
        },
        {
         "name": "nicknames",
         "rawType": "object",
         "type": "unknown"
        },
        {
         "name": "cohort_size",
         "rawType": "float64",
         "type": "float"
        }
       ],
       "ref": "0f31f951-fc46-4b5e-a976-8d2608d5296b",
       "rows": [
        [
         "0",
         "0",
         "100654",
         "Alabama A&M University",
         "Normal",
         "Alabama",
         "4-year",
         "Public",
         "Masters Colleges and Universities--larger programs",
         "X",
         null,
         "-86.568502",
         "34.783368",
         "www.aamu.edu/",
         "4051",
         "14.2",
         "18.8",
         "21.5",
         "105331",
         "75743",
         "66436",
         "90",
         "93.8",
         "3906",
         "33",
         "823.0",
         "0.0",
         "7142.0",
         "72.0",
         null,
         null,
         "10.0",
         "15.0",
         "29.1",
         "14.0",
         "71.2",
         "98.0",
         "63.1",
         "17.0",
         "82.8",
         "89.0",
         "2010.0",
         "14.7",
         "2.0",
         "36.5",
         "16.1",
         "33.0",
         "5.3",
         "12.5",
         "14.6",
         "15.7",
         "1.5",
         "40.9",
         "17.2",
         "36.4",
         "5.6",
         "17.2",
         "11.1",
         "232937|100724|405997|113607|139533|144005|228501|101480|131876|144759|419509|176479|243197|228529|372222|228431|206695|139366|159993|224147",
         "13",
         "386",
         "99.7|07",
         null,
         "882.0"
        ],
        [
         "1",
         "1",
         "100663",
         "University of Alabama at Birmingham",
         "Birmingham",
         "Alabama",
         "4-year",
         "Public",
         "Research Universities--very high research activity",
         null,
         null,
         "-86.80917",
         "33.50223",
         "www.uab.edu",
         "11502",
         "20.9",
         "18.8",
         "21.5",
         "136546",
         "75743",
         "66436",
         "97",
         "72.7",
         "10032",
         "67",
         "1146.0",
         "84.0",
         "6088.0",
         "50.0",
         "24136.0",
         "93.0",
         "29.4",
         "67.0",
         "53.5",
         "66.0",
         "35.1",
         "39.0",
         "80.2",
         "70.0",
         "92.4",
         "98.0",
         "2011.0",
         "22.3",
         "2.9",
         "34.2",
         "19.2",
         "42.6",
         "10.5",
         "7.9",
         "13.1",
         null,
         null,
         null,
         null,
         null,
         null,
         null,
         null,
         "196060|180461|201885|145600|209542|236939|126818|230764|104151|104179|157085|171100|153603|141574|155317|110714|137351|126562|243780|196088",
         "13",
         "106",
         "56.0|07",
         "UAB",
         "1376.0"
        ],
        [
         "2",
         "2",
         "100690",
         "Amridge University",
         "Montgomery",
         "Alabama",
         "4-year",
         "Private not-for-profit",
         "Baccalaureate Colleges--Arts & Sciences",
         null,
         null,
         "-86.17401",
         "32.362609",
         "www.amridgeuniversity.edu",
         "322",
         "29.9",
         "17.8",
         "22.5",
         "58414",
         "92268",
         "101725",
         "30",
         "62.7",
         "294",
         "12",
         null,
         null,
         "2540.0",
         "1.0",
         "302.0",
         "1.0",
         "0.0",
         "0.0",
         "66.7",
         "72.0",
         "68.4",
         "91.0",
         "37.5",
         "2.0",
         "67.2",
         "71.0",
         null,
         null,
         null,
         null,
         null,
         null,
         null,
         null,
         null,
         null,
         null,
         null,
         null,
         null,
         null,
         null,
         null,
         "217925|441511|205124|247825|197647|221856|135364|117575|164207|193070|199315|166054|367893|183804|439701|193052|197744|193247|137777|176789",
         "16",
         "252",
         "100.0|07",
         null,
         "3.0"
        ],
        [
         "3",
         "3",
         "100706",
         "University of Alabama at Huntsville",
         "Huntsville",
         "Alabama",
         "4-year",
         "Public",
         "Research Universities--very high research activity",
         null,
         null,
         "-86.63842",
         "34.722818",
         "www.uah.edu",
         "5696",
         "20.9",
         "18.8",
         "21.5",
         "64418",
         "75743",
         "66436",
         "61",
         "74.4",
         "5000",
         "40",
         "1180.0",
         "89.0",
         "6647.0",
         "63.0",
         "11502.0",
         "81.0",
         "16.5",
         "34.0",
         "48.4",
         "54.0",
         "32.8",
         "32.0",
         "81.0",
         "72.0",
         "65.5",
         "56.0",
         "2010.0",
         "12.8",
         "4.7",
         "42.8",
         "18.3",
         "43.0",
         "14.5",
         "10.2",
         "11.7",
         "0.0",
         "0.0",
         "0.0",
         "0.0",
         "0.0",
         "0.0",
         "0.0",
         "0.0",
         "232186|133881|196103|196413|207388|171128|190044|178402|185828|202480|183044|132903|163268|223232|157289|100858|216339|230728|165334|204024",
         "13",
         "106",
         "43.1|07",
         "UAH",
         "759.0"
        ],
        [
         "4",
         "4",
         "100724",
         "Alabama State University",
         "Montgomery",
         "Alabama",
         "4-year",
         "Public",
         "Masters Colleges and Universities--larger programs",
         "X",
         null,
         "-86.295677",
         "32.364317",
         "www.alasu.edu/email/index.aspx",
         "5356",
         "11.6",
         "18.8",
         "21.5",
         "132407",
         "75743",
         "66436",
         "96",
         "91.0",
         "5035",
         "41",
         "830.0",
         "1.0",
         "7256.0",
         "74.0",
         "13202.0",
         "84.0",
         "8.8",
         "11.0",
         "25.2",
         "9.0",
         "82.7",
         "100.0",
         "62.2",
         "15.0",
         "67.0",
         "58.0",
         null,
         null,
         null,
         null,
         null,
         null,
         null,
         null,
         null,
         null,
         null,
         null,
         null,
         null,
         null,
         null,
         null,
         "100654|232937|242617|243197|144005|241739|235422|243601|113607|405997|139533|190114|228501|131876|101480|144759|419509|176479|228529|372222",
         "13",
         "386",
         "88.0|07",
         "ASU",
         "1351.0"
        ]
       ],
       "shape": {
        "columns": 63,
        "rows": 5
       }
      },
      "text/html": [
       "<div>\n",
       "<style scoped>\n",
       "    .dataframe tbody tr th:only-of-type {\n",
       "        vertical-align: middle;\n",
       "    }\n",
       "\n",
       "    .dataframe tbody tr th {\n",
       "        vertical-align: top;\n",
       "    }\n",
       "\n",
       "    .dataframe thead th {\n",
       "        text-align: right;\n",
       "    }\n",
       "</style>\n",
       "<table border=\"1\" class=\"dataframe\">\n",
       "  <thead>\n",
       "    <tr style=\"text-align: right;\">\n",
       "      <th></th>\n",
       "      <th>index</th>\n",
       "      <th>unitid</th>\n",
       "      <th>chronname</th>\n",
       "      <th>city</th>\n",
       "      <th>state</th>\n",
       "      <th>level</th>\n",
       "      <th>control</th>\n",
       "      <th>basic</th>\n",
       "      <th>hbcu</th>\n",
       "      <th>flagship</th>\n",
       "      <th>...</th>\n",
       "      <th>vsa_grad_after6_transfer</th>\n",
       "      <th>vsa_grad_elsewhere_after6_transfer</th>\n",
       "      <th>vsa_enroll_after6_transfer</th>\n",
       "      <th>vsa_enroll_elsewhere_after6_transfer</th>\n",
       "      <th>similar</th>\n",
       "      <th>state_sector_ct</th>\n",
       "      <th>carnegie_ct</th>\n",
       "      <th>counted_pct</th>\n",
       "      <th>nicknames</th>\n",
       "      <th>cohort_size</th>\n",
       "    </tr>\n",
       "  </thead>\n",
       "  <tbody>\n",
       "    <tr>\n",
       "      <th>0</th>\n",
       "      <td>0</td>\n",
       "      <td>100654</td>\n",
       "      <td>Alabama A&amp;M University</td>\n",
       "      <td>Normal</td>\n",
       "      <td>Alabama</td>\n",
       "      <td>4-year</td>\n",
       "      <td>Public</td>\n",
       "      <td>Masters Colleges and Universities--larger prog...</td>\n",
       "      <td>X</td>\n",
       "      <td>NaN</td>\n",
       "      <td>...</td>\n",
       "      <td>36.4</td>\n",
       "      <td>5.6</td>\n",
       "      <td>17.2</td>\n",
       "      <td>11.1</td>\n",
       "      <td>232937|100724|405997|113607|139533|144005|2285...</td>\n",
       "      <td>13</td>\n",
       "      <td>386</td>\n",
       "      <td>99.7|07</td>\n",
       "      <td>NaN</td>\n",
       "      <td>882.0</td>\n",
       "    </tr>\n",
       "    <tr>\n",
       "      <th>1</th>\n",
       "      <td>1</td>\n",
       "      <td>100663</td>\n",
       "      <td>University of Alabama at Birmingham</td>\n",
       "      <td>Birmingham</td>\n",
       "      <td>Alabama</td>\n",
       "      <td>4-year</td>\n",
       "      <td>Public</td>\n",
       "      <td>Research Universities--very high research acti...</td>\n",
       "      <td>NaN</td>\n",
       "      <td>NaN</td>\n",
       "      <td>...</td>\n",
       "      <td>NaN</td>\n",
       "      <td>NaN</td>\n",
       "      <td>NaN</td>\n",
       "      <td>NaN</td>\n",
       "      <td>196060|180461|201885|145600|209542|236939|1268...</td>\n",
       "      <td>13</td>\n",
       "      <td>106</td>\n",
       "      <td>56.0|07</td>\n",
       "      <td>UAB</td>\n",
       "      <td>1376.0</td>\n",
       "    </tr>\n",
       "    <tr>\n",
       "      <th>2</th>\n",
       "      <td>2</td>\n",
       "      <td>100690</td>\n",
       "      <td>Amridge University</td>\n",
       "      <td>Montgomery</td>\n",
       "      <td>Alabama</td>\n",
       "      <td>4-year</td>\n",
       "      <td>Private not-for-profit</td>\n",
       "      <td>Baccalaureate Colleges--Arts &amp; Sciences</td>\n",
       "      <td>NaN</td>\n",
       "      <td>NaN</td>\n",
       "      <td>...</td>\n",
       "      <td>NaN</td>\n",
       "      <td>NaN</td>\n",
       "      <td>NaN</td>\n",
       "      <td>NaN</td>\n",
       "      <td>217925|441511|205124|247825|197647|221856|1353...</td>\n",
       "      <td>16</td>\n",
       "      <td>252</td>\n",
       "      <td>100.0|07</td>\n",
       "      <td>NaN</td>\n",
       "      <td>3.0</td>\n",
       "    </tr>\n",
       "    <tr>\n",
       "      <th>3</th>\n",
       "      <td>3</td>\n",
       "      <td>100706</td>\n",
       "      <td>University of Alabama at Huntsville</td>\n",
       "      <td>Huntsville</td>\n",
       "      <td>Alabama</td>\n",
       "      <td>4-year</td>\n",
       "      <td>Public</td>\n",
       "      <td>Research Universities--very high research acti...</td>\n",
       "      <td>NaN</td>\n",
       "      <td>NaN</td>\n",
       "      <td>...</td>\n",
       "      <td>0.0</td>\n",
       "      <td>0.0</td>\n",
       "      <td>0.0</td>\n",
       "      <td>0.0</td>\n",
       "      <td>232186|133881|196103|196413|207388|171128|1900...</td>\n",
       "      <td>13</td>\n",
       "      <td>106</td>\n",
       "      <td>43.1|07</td>\n",
       "      <td>UAH</td>\n",
       "      <td>759.0</td>\n",
       "    </tr>\n",
       "    <tr>\n",
       "      <th>4</th>\n",
       "      <td>4</td>\n",
       "      <td>100724</td>\n",
       "      <td>Alabama State University</td>\n",
       "      <td>Montgomery</td>\n",
       "      <td>Alabama</td>\n",
       "      <td>4-year</td>\n",
       "      <td>Public</td>\n",
       "      <td>Masters Colleges and Universities--larger prog...</td>\n",
       "      <td>X</td>\n",
       "      <td>NaN</td>\n",
       "      <td>...</td>\n",
       "      <td>NaN</td>\n",
       "      <td>NaN</td>\n",
       "      <td>NaN</td>\n",
       "      <td>NaN</td>\n",
       "      <td>100654|232937|242617|243197|144005|241739|2354...</td>\n",
       "      <td>13</td>\n",
       "      <td>386</td>\n",
       "      <td>88.0|07</td>\n",
       "      <td>ASU</td>\n",
       "      <td>1351.0</td>\n",
       "    </tr>\n",
       "  </tbody>\n",
       "</table>\n",
       "<p>5 rows × 63 columns</p>\n",
       "</div>"
      ],
      "text/plain": [
       "   index  unitid                            chronname        city    state  \\\n",
       "0      0  100654               Alabama A&M University      Normal  Alabama   \n",
       "1      1  100663  University of Alabama at Birmingham  Birmingham  Alabama   \n",
       "2      2  100690                   Amridge University  Montgomery  Alabama   \n",
       "3      3  100706  University of Alabama at Huntsville  Huntsville  Alabama   \n",
       "4      4  100724             Alabama State University  Montgomery  Alabama   \n",
       "\n",
       "    level                 control  \\\n",
       "0  4-year                  Public   \n",
       "1  4-year                  Public   \n",
       "2  4-year  Private not-for-profit   \n",
       "3  4-year                  Public   \n",
       "4  4-year                  Public   \n",
       "\n",
       "                                               basic hbcu flagship  ...  \\\n",
       "0  Masters Colleges and Universities--larger prog...    X      NaN  ...   \n",
       "1  Research Universities--very high research acti...  NaN      NaN  ...   \n",
       "2            Baccalaureate Colleges--Arts & Sciences  NaN      NaN  ...   \n",
       "3  Research Universities--very high research acti...  NaN      NaN  ...   \n",
       "4  Masters Colleges and Universities--larger prog...    X      NaN  ...   \n",
       "\n",
       "   vsa_grad_after6_transfer  vsa_grad_elsewhere_after6_transfer  \\\n",
       "0                      36.4                                 5.6   \n",
       "1                       NaN                                 NaN   \n",
       "2                       NaN                                 NaN   \n",
       "3                       0.0                                 0.0   \n",
       "4                       NaN                                 NaN   \n",
       "\n",
       "  vsa_enroll_after6_transfer  vsa_enroll_elsewhere_after6_transfer  \\\n",
       "0                       17.2                                  11.1   \n",
       "1                        NaN                                   NaN   \n",
       "2                        NaN                                   NaN   \n",
       "3                        0.0                                   0.0   \n",
       "4                        NaN                                   NaN   \n",
       "\n",
       "                                             similar  state_sector_ct  \\\n",
       "0  232937|100724|405997|113607|139533|144005|2285...               13   \n",
       "1  196060|180461|201885|145600|209542|236939|1268...               13   \n",
       "2  217925|441511|205124|247825|197647|221856|1353...               16   \n",
       "3  232186|133881|196103|196413|207388|171128|1900...               13   \n",
       "4  100654|232937|242617|243197|144005|241739|2354...               13   \n",
       "\n",
       "   carnegie_ct  counted_pct  nicknames  cohort_size  \n",
       "0          386      99.7|07        NaN        882.0  \n",
       "1          106      56.0|07        UAB       1376.0  \n",
       "2          252     100.0|07        NaN          3.0  \n",
       "3          106      43.1|07        UAH        759.0  \n",
       "4          386      88.0|07        ASU       1351.0  \n",
       "\n",
       "[5 rows x 63 columns]"
      ]
     },
     "execution_count": 3,
     "metadata": {},
     "output_type": "execute_result"
    }
   ],
   "source": [
    "import pandas as pd\n",
    "\n",
    "college_comp = pd.read_csv('data/college_completion.csv')\n",
    "college_comp.head()"
   ]
  },
  {
   "cell_type": "markdown",
   "id": "fa5cade1",
   "metadata": {},
   "source": [
    "5. Pick two or three variables and briefly analyze them\n",
    "    - Is it a categorical or numeric variable?\n",
    "    - How many missing values are there? (`df['var'].isna()` and `np.sum()`)\n",
    "    - If categorical, tabulate the values (`df['var'].value_counts()`) and if numeric, get a summary (`df['var'].describe()`)"
   ]
  },
  {
   "cell_type": "markdown",
   "id": "104814c2",
   "metadata": {},
   "source": [
    "### state:"
   ]
  },
  {
   "cell_type": "code",
   "execution_count": 14,
   "id": "63970bd7",
   "metadata": {},
   "outputs": [
    {
     "name": "stdout",
     "output_type": "stream",
     "text": [
      "object\n"
     ]
    },
    {
     "data": {
      "application/vnd.microsoft.datawrangler.viewer.v0+json": {
       "columns": [
        {
         "name": "state",
         "rawType": "object",
         "type": "string"
        },
        {
         "name": "count",
         "rawType": "int64",
         "type": "integer"
        }
       ],
       "ref": "0a9af24c-8700-436a-bc4c-639211ea2c65",
       "rows": [
        [
         "California",
         "350"
        ],
        [
         "New York",
         "241"
        ],
        [
         "Pennsylvania",
         "217"
        ],
        [
         "Texas",
         "207"
        ],
        [
         "Ohio",
         "185"
        ],
        [
         "Florida",
         "176"
        ],
        [
         "Illinois",
         "141"
        ],
        [
         "North Carolina",
         "135"
        ],
        [
         "Georgia",
         "106"
        ],
        [
         "Virginia",
         "104"
        ],
        [
         "Missouri",
         "103"
        ],
        [
         "Minnesota",
         "101"
        ],
        [
         "Massachusetts",
         "100"
        ],
        [
         "Tennessee",
         "94"
        ],
        [
         "Michigan",
         "94"
        ],
        [
         "Washington",
         "73"
        ],
        [
         "Wisconsin",
         "71"
        ],
        [
         "Colorado",
         "70"
        ],
        [
         "Alabama",
         "69"
        ],
        [
         "Indiana",
         "67"
        ],
        [
         "Kentucky",
         "67"
        ],
        [
         "South Carolina",
         "66"
        ],
        [
         "Arizona",
         "63"
        ],
        [
         "Kansas",
         "62"
        ],
        [
         "Iowa",
         "61"
        ],
        [
         "Louisiana",
         "56"
        ],
        [
         "Oklahoma",
         "56"
        ],
        [
         "New Jersey",
         "55"
        ],
        [
         "Maryland",
         "52"
        ],
        [
         "Oregon",
         "50"
        ],
        [
         "Arkansas",
         "48"
        ],
        [
         "New Mexico",
         "40"
        ],
        [
         "West Virginia",
         "39"
        ],
        [
         "Nebraska",
         "36"
        ],
        [
         "Mississippi",
         "36"
        ],
        [
         "Connecticut",
         "35"
        ],
        [
         "Utah",
         "30"
        ],
        [
         "Maine",
         "29"
        ],
        [
         "New Hampshire",
         "24"
        ],
        [
         "South Dakota",
         "23"
        ],
        [
         "Montana",
         "22"
        ],
        [
         "Vermont",
         "20"
        ],
        [
         "North Dakota",
         "20"
        ],
        [
         "Nevada",
         "20"
        ],
        [
         "Hawaii",
         "18"
        ],
        [
         "Idaho",
         "16"
        ],
        [
         "District of Columbia",
         "12"
        ],
        [
         "Delaware",
         "11"
        ],
        [
         "Rhode Island",
         "11"
        ],
        [
         "Wyoming",
         "9"
        ]
       ],
       "shape": {
        "columns": 1,
        "rows": 51
       }
      },
      "text/plain": [
       "state\n",
       "California              350\n",
       "New York                241\n",
       "Pennsylvania            217\n",
       "Texas                   207\n",
       "Ohio                    185\n",
       "Florida                 176\n",
       "Illinois                141\n",
       "North Carolina          135\n",
       "Georgia                 106\n",
       "Virginia                104\n",
       "Missouri                103\n",
       "Minnesota               101\n",
       "Massachusetts           100\n",
       "Tennessee                94\n",
       "Michigan                 94\n",
       "Washington               73\n",
       "Wisconsin                71\n",
       "Colorado                 70\n",
       "Alabama                  69\n",
       "Indiana                  67\n",
       "Kentucky                 67\n",
       "South Carolina           66\n",
       "Arizona                  63\n",
       "Kansas                   62\n",
       "Iowa                     61\n",
       "Louisiana                56\n",
       "Oklahoma                 56\n",
       "New Jersey               55\n",
       "Maryland                 52\n",
       "Oregon                   50\n",
       "Arkansas                 48\n",
       "New Mexico               40\n",
       "West Virginia            39\n",
       "Nebraska                 36\n",
       "Mississippi              36\n",
       "Connecticut              35\n",
       "Utah                     30\n",
       "Maine                    29\n",
       "New Hampshire            24\n",
       "South Dakota             23\n",
       "Montana                  22\n",
       "Vermont                  20\n",
       "North Dakota             20\n",
       "Nevada                   20\n",
       "Hawaii                   18\n",
       "Idaho                    16\n",
       "District of Columbia     12\n",
       "Delaware                 11\n",
       "Rhode Island             11\n",
       "Wyoming                   9\n",
       "Alaska                    7\n",
       "Name: count, dtype: int64"
      ]
     },
     "execution_count": 14,
     "metadata": {},
     "output_type": "execute_result"
    }
   ],
   "source": [
    "# Variable Type\n",
    "print(college_comp[\"state\"].dtype)\n",
    "\n",
    "# Missing values\n",
    "import numpy as np\n",
    "college_comp[\"state\"].isna().sum()\n",
    "\n",
    "# Tabulating values\n",
    "college_comp['state'].value_counts()"
   ]
  },
  {
   "cell_type": "markdown",
   "id": "57d03901",
   "metadata": {},
   "source": [
    "- Categorical variable.\n",
    "- There are 0 missing values.\n",
    "- The tabulation shows that California has the most colleges in the U.S., followed by New York and Pennsylvania."
   ]
  },
  {
   "cell_type": "markdown",
   "id": "cd4520b1",
   "metadata": {},
   "source": [
    "### city:"
   ]
  },
  {
   "cell_type": "code",
   "execution_count": 17,
   "id": "e25d8da2",
   "metadata": {},
   "outputs": [
    {
     "name": "stdout",
     "output_type": "stream",
     "text": [
      "object\n"
     ]
    },
    {
     "data": {
      "application/vnd.microsoft.datawrangler.viewer.v0+json": {
       "columns": [
        {
         "name": "city",
         "rawType": "object",
         "type": "string"
        },
        {
         "name": "count",
         "rawType": "int64",
         "type": "integer"
        }
       ],
       "ref": "553c4764-8b05-439b-bfb2-c2a312044e48",
       "rows": [
        [
         "Chicago",
         "40"
        ],
        [
         "New York",
         "38"
        ],
        [
         "Brooklyn",
         "28"
        ],
        [
         "Philadelphia",
         "25"
        ],
        [
         "Atlanta",
         "24"
        ],
        [
         "Los Angeles",
         "24"
        ],
        [
         "Houston",
         "23"
        ],
        [
         "Pittsburgh",
         "22"
        ],
        [
         "Boston",
         "22"
        ],
        [
         "Nashville",
         "22"
        ],
        [
         "Dallas",
         "21"
        ],
        [
         "Jacksonville",
         "20"
        ],
        [
         "Phoenix",
         "20"
        ],
        [
         "San Diego",
         "19"
        ],
        [
         "Portland",
         "19"
        ],
        [
         "Springfield",
         "19"
        ],
        [
         "Kansas City",
         "19"
        ],
        [
         "San Antonio",
         "18"
        ],
        [
         "Miami",
         "18"
        ],
        [
         "Denver",
         "18"
        ],
        [
         "Columbus",
         "17"
        ],
        [
         "Cincinnati",
         "17"
        ],
        [
         "Madison",
         "16"
        ],
        [
         "Washington",
         "16"
        ],
        [
         "Columbia",
         "16"
        ],
        [
         "Memphis",
         "15"
        ],
        [
         "Indianapolis",
         "15"
        ],
        [
         "Saint Louis",
         "14"
        ],
        [
         "Baltimore",
         "14"
        ],
        [
         "Louisville",
         "14"
        ],
        [
         "Tampa",
         "14"
        ],
        [
         "Cleveland",
         "14"
        ],
        [
         "Austin",
         "14"
        ],
        [
         "Seattle",
         "13"
        ],
        [
         "Minneapolis",
         "13"
        ],
        [
         "Tulsa",
         "13"
        ],
        [
         "Lancaster",
         "12"
        ],
        [
         "Rochester",
         "12"
        ],
        [
         "Omaha",
         "12"
        ],
        [
         "Montgomery",
         "12"
        ],
        [
         "Orlando",
         "12"
        ],
        [
         "Albany",
         "12"
        ],
        [
         "Charlotte",
         "12"
        ],
        [
         "Albuquerque",
         "11"
        ],
        [
         "San Francisco",
         "11"
        ],
        [
         "Milwaukee",
         "11"
        ],
        [
         "Greenville",
         "11"
        ],
        [
         "Jackson",
         "11"
        ],
        [
         "Colorado Springs",
         "11"
        ],
        [
         "Sacramento",
         "11"
        ]
       ],
       "shape": {
        "columns": 1,
        "rows": 1787
       }
      },
      "text/plain": [
       "city\n",
       "Chicago                40\n",
       "New York               38\n",
       "Brooklyn               28\n",
       "Philadelphia           25\n",
       "Atlanta                24\n",
       "                       ..\n",
       "Eagan                   1\n",
       "North Mankato           1\n",
       "Inver Grove Heights     1\n",
       "Hibbing                 1\n",
       "Edina                   1\n",
       "Name: count, Length: 1787, dtype: int64"
      ]
     },
     "execution_count": 17,
     "metadata": {},
     "output_type": "execute_result"
    }
   ],
   "source": [
    "# Variable Type\n",
    "print(college_comp[\"city\"].dtype)\n",
    "\n",
    "# Missing Values\n",
    "college_comp[\"city\"].isna().sum()\n",
    "\n",
    "# Tabulating values\n",
    "college_comp['city'].value_counts()"
   ]
  },
  {
   "cell_type": "markdown",
   "id": "31dad9df",
   "metadata": {},
   "source": [
    "- Categorical variable.\n",
    "- There are 0 missing values.\n",
    "- Tabulating the data shows that Chicago is the city with the most colleges in the U.S., followed by New York City and Brooklyn."
   ]
  },
  {
   "cell_type": "markdown",
   "id": "dbf2318a",
   "metadata": {},
   "source": [
    "6. What are some questions and prediction tools you could create using these data? Who would the stakeholder be for that prediction tool? What practical or ethical questions would it create? What other data would you want, that are not available in your data?"
   ]
  },
  {
   "cell_type": "markdown",
   "id": "a71b511c",
   "metadata": {},
   "source": [
    "Some questions I can answer using this dataset are:\n",
    "- What state in the U.S. has the most public colleges? What about private?\n",
    "- Does a college's endowment affect the amount of financial aid disbursed to students?\n",
    "- Is graduation rate dependent on where the college is located, in terms of city and state?\n",
    "\n",
    "Here are some prediction tools we can create with this data:\n",
    "- We can predict...\n",
    "    - the amount of students recieving financial aid for each institution using this past data\n",
    "        - Stakeholder: prospective students, private student loan organizations\n",
    "        - Ethicial implications: If this data is available for students to view, could they risk not being able to afford an institution that a student of their socio-economic status a year prior could afford?\n",
    "        - Practical implications: If the college's financial aid budget is significantly decreased from one year to the next, should the college be held to this expectation of offering financial aid to the same amount of students?\n",
    "        - Other data to consider: number of donors to each institution's financial aid fund, and how much each of those donors has historically given\n",
    "    - how many students will graduate in each city and state the following school year\n",
    "        - Stakeholder: Employers looking to hire graduates in specific locations\n",
    "        - Practical implications: Are these students graduating in specific locations top applicants for jobs in the area? Are they the best recently-graduated students a company can hire?\n",
    "        - Other data to consider: Students' majors and prior work experience\n",
    "    - the expected endowments for public, non-profit, and for profit schools\n",
    "        - Stakeholder: Private donors, federal donors\n",
    "        - Ethical implications: Should \n"
   ]
  },
  {
   "cell_type": "markdown",
   "id": "a4a7ddc7",
   "metadata": {},
   "source": [
    "7. Commit your work to the repo (`git commit -am 'Finish assignment'` at the command line, or use the Git panel in VS Code). Push your work back to Github and submit the link on Canvas in the assignment tab."
   ]
  }
 ],
 "metadata": {
  "kernelspec": {
   "display_name": "ds5030",
   "language": "python",
   "name": "python3"
  },
  "language_info": {
   "codemirror_mode": {
    "name": "ipython",
    "version": 3
   },
   "file_extension": ".py",
   "mimetype": "text/x-python",
   "name": "python",
   "nbconvert_exporter": "python",
   "pygments_lexer": "ipython3",
   "version": "3.13.5"
  }
 },
 "nbformat": 4,
 "nbformat_minor": 5
}
